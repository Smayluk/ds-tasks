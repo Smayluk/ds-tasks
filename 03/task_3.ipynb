{
 "cells": [
  {
   "cell_type": "code",
   "execution_count": 1,
   "metadata": {},
   "outputs": [],
   "source": [
    "import pandas as pd\n",
    "import numpy as np\n",
    "from scipy import stats"
   ]
  },
  {
   "cell_type": "code",
   "execution_count": 2,
   "metadata": {},
   "outputs": [],
   "source": [
    "data = pd.read_csv('hw_25000.csv', names = ['index', 'height_inches', 'weight_pounds'], header = 0)"
   ]
  },
  {
   "cell_type": "code",
   "execution_count": 3,
   "metadata": {},
   "outputs": [],
   "source": [
    "data['height_cm'] = data['height_inches'] * 2.54"
   ]
  },
  {
   "cell_type": "code",
   "execution_count": 4,
   "metadata": {},
   "outputs": [],
   "source": [
    "#выбираем людей с ростом от 170\n",
    "peoples_170 = data.loc[ data['height_cm'] > 170 ]\n",
    "#из текущего набора выбираем людей с ростом до 180\n",
    "peoples_170_180 = peoples_170.loc[ peoples_170['height_cm'] < 180 ]\n",
    "# думаю можно было как-то в loc сделать двойное условие, а потом еще и выбрать диапазон 0:19..."
   ]
  },
  {
   "cell_type": "code",
   "execution_count": 5,
   "metadata": {},
   "outputs": [],
   "source": [
    "weight_170_180 =  peoples_170_180['weight_pounds'].head(20).tolist()"
   ]
  },
  {
   "cell_type": "code",
   "execution_count": 6,
   "metadata": {},
   "outputs": [
    {
     "data": {
      "text/plain": [
       "[153.0269,\n",
       " 142.3354,\n",
       " 144.2971,\n",
       " 123.3024,\n",
       " 141.4947,\n",
       " 136.4623,\n",
       " 112.3723,\n",
       " 114.14299999999999,\n",
       " 125.6107,\n",
       " 122.4618,\n",
       " 116.0866,\n",
       " 142.9733,\n",
       " 124.0449,\n",
       " 141.2807,\n",
       " 143.5392,\n",
       " 129.5027,\n",
       " 141.8501,\n",
       " 129.7244,\n",
       " 142.4235,\n",
       " 131.5502]"
      ]
     },
     "execution_count": 6,
     "metadata": {},
     "output_type": "execute_result"
    }
   ],
   "source": [
    "weight_170_180"
   ]
  },
  {
   "cell_type": "code",
   "execution_count": 7,
   "metadata": {},
   "outputs": [
    {
     "data": {
      "text/plain": [
       "132.92411"
      ]
     },
     "execution_count": 7,
     "metadata": {},
     "output_type": "execute_result"
    }
   ],
   "source": [
    "np.mean(weight_170_180)"
   ]
  },
  {
   "cell_type": "code",
   "execution_count": 8,
   "metadata": {},
   "outputs": [
    {
     "data": {
      "text/plain": [
       "127.07942116079916"
      ]
     },
     "execution_count": 8,
     "metadata": {},
     "output_type": "execute_result"
    }
   ],
   "source": [
    "data['weight_pounds'].mean()"
   ]
  },
  {
   "cell_type": "markdown",
   "metadata": {},
   "source": [
    "# Задание 1"
   ]
  },
  {
   "cell_type": "code",
   "execution_count": 9,
   "metadata": {},
   "outputs": [
    {
     "data": {
      "text/plain": [
       "Ttest_1sampResult(statistic=2.243843332671328, pvalue=0.03695275215125578)"
      ]
     },
     "execution_count": 9,
     "metadata": {},
     "output_type": "execute_result"
    }
   ],
   "source": [
    "stats.ttest_1samp( weight_170_180, data['weight_pounds'].mean())"
   ]
  },
  {
   "cell_type": "code",
   "execution_count": 10,
   "metadata": {},
   "outputs": [],
   "source": [
    "#так как pvalue=0.03695275215125578, что меньше 0.05, мы можем утверждать что\n",
    "#средний вес выборки больше, чем в среднем по всем имеющимся данным\n",
    "#(с вероятностью 95% у нас есть основания утверждать что данные выборки различны)"
   ]
  },
  {
   "cell_type": "markdown",
   "metadata": {},
   "source": [
    "# Задание 2"
   ]
  },
  {
   "cell_type": "code",
   "execution_count": 11,
   "metadata": {},
   "outputs": [
    {
     "data": {
      "text/plain": [
       "Ttest_indResult(statistic=2.2406349413640894, pvalue=0.02505847065887213)"
      ]
     },
     "execution_count": 11,
     "metadata": {},
     "output_type": "execute_result"
    }
   ],
   "source": [
    "sample_2 = weight_170_180\n",
    "stats.ttest_ind( sample_2, data['weight_pounds'] )"
   ]
  },
  {
   "cell_type": "code",
   "execution_count": 12,
   "metadata": {},
   "outputs": [],
   "source": [
    "#так как pvalue==0.02505847065887213, что меньше 0.05, мы можем утверждать что\n",
    "#разница среднего веса людей в исходном файле hw_25000.csv и среднего веса людей во всем наборе данных №2 статистически значима"
   ]
  }
 ],
 "metadata": {
  "kernelspec": {
   "display_name": "Python 3",
   "language": "python",
   "name": "python3"
  },
  "language_info": {
   "codemirror_mode": {
    "name": "ipython",
    "version": 3
   },
   "file_extension": ".py",
   "mimetype": "text/x-python",
   "name": "python",
   "nbconvert_exporter": "python",
   "pygments_lexer": "ipython3",
   "version": "3.6.4"
  }
 },
 "nbformat": 4,
 "nbformat_minor": 2
}
