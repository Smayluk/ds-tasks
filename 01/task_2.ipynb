{
 "cells": [
  {
   "cell_type": "code",
   "execution_count": 16,
   "metadata": {},
   "outputs": [
    {
     "name": "stdout",
     "output_type": "stream",
     "text": [
      "Из слова Ростелеком можно составить 5 различных слов русского языка\n"
     ]
    }
   ],
   "source": [
    "import re\n",
    "\n",
    "input_word = \"Ростелеком\"\n",
    "\n",
    "russian_dictionary = {\n",
    "    \"кот\" : \"значение слова...\", \n",
    "    \"стекло\" : \"значение слова...\",\n",
    "    \"лето\" : \"значение слова...\",\n",
    "    \"еще\" : \"значение слова...\",\n",
    "    \"несколько\" : \"значение слова...\",\n",
    "    \"слов\" : \"значение слова...\",\n",
    "    \"космос\" : \"значение слова...\",\n",
    "    \"торт\" : \"значение слова...\",\n",
    "    \"наверное\" : \"значение слова...\",\n",
    "    \"хватит\" : \"значение слова...\",\n",
    "}\n",
    "\n",
    "prog = re.compile(\"^[\" + input_word + \"]*$\", re.IGNORECASE)\n",
    "\n",
    "words = []\n",
    "\n",
    "for key in russian_dictionary:\n",
    "    if re.match(prog, key):\n",
    "        words.append(key)\n",
    "\n",
    "print(\"Из слова {} можно составить {} различных слов русского языка\".format(input_word, len(words)))"
   ]
  }
 ],
 "metadata": {
  "kernelspec": {
   "display_name": "Python 3",
   "language": "python",
   "name": "python3"
  },
  "language_info": {
   "codemirror_mode": {
    "name": "ipython",
    "version": 3
   },
   "file_extension": ".py",
   "mimetype": "text/x-python",
   "name": "python",
   "nbconvert_exporter": "python",
   "pygments_lexer": "ipython3",
   "version": "3.6.4"
  }
 },
 "nbformat": 4,
 "nbformat_minor": 2
}
