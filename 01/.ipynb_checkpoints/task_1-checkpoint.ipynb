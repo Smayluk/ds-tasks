{
 "cells": [
  {
   "cell_type": "code",
   "execution_count": 1,
   "metadata": {},
   "outputs": [
    {
     "name": "stdout",
     "output_type": "stream",
     "text": [
      "Распределение тематик:\n",
      "starlife = 13 \n",
      "world = 9 \n",
      "latest = 2 \n",
      "incidents = 6 \n",
      "politics = 11 \n",
      "business = 5 \n",
      "moscow_city = 1 \n",
      "head = 3 \n",
      "science = 6 \n",
      "video = 10 \n",
      "sport = 3 \n",
      "middleeast = 3 \n",
      "economics = 3 \n",
      "travel = 1 \n",
      "health = 2 \n",
      "cis = 4 \n",
      "crazy-world = 2 \n",
      "auto = 1 \n",
      "scitech = 1 \n",
      "lifestyle = 2 \n",
      "articles = 7 \n",
      "finances = 1 \n",
      "europe = 1 \n",
      "kinomusic = 1 \n"
     ]
    }
   ],
   "source": [
    "import re\n",
    "\n",
    "prog = re.compile('/(.*?)/')\n",
    "\n",
    "themes = {}\n",
    "\n",
    "with open('URLs.txt', 'r') as f:\n",
    "    for line in f:\n",
    "        result = re.match(prog, line)\n",
    "        if(result):\n",
    "            theme = result.group(1)\n",
    "            themes.setdefault(theme, 0)\n",
    "            themes[theme] += 1\n",
    "            \n",
    "print(\"Распределение тематик:\")\n",
    "for key in themes:\n",
    "    print('{} = {} '.format(key, themes[key]))"
   ]
  },
  {
   "cell_type": "code",
   "execution_count": null,
   "metadata": {},
   "outputs": [],
   "source": []
  }
 ],
 "metadata": {
  "kernelspec": {
   "display_name": "Python 3",
   "language": "python",
   "name": "python3"
  },
  "language_info": {
   "codemirror_mode": {
    "name": "ipython",
    "version": 3
   },
   "file_extension": ".py",
   "mimetype": "text/x-python",
   "name": "python",
   "nbconvert_exporter": "python",
   "pygments_lexer": "ipython3",
   "version": "3.6.4"
  }
 },
 "nbformat": 4,
 "nbformat_minor": 2
}
